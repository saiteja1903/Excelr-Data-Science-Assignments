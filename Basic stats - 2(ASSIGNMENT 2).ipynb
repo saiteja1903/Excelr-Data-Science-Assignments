{
 "cells": [
  {
   "cell_type": "code",
   "execution_count": 92,
   "id": "32ca4890",
   "metadata": {},
   "outputs": [],
   "source": [
    "import numpy as np\n",
    "from scipy import stats"
   ]
  },
  {
   "cell_type": "code",
   "execution_count": 93,
   "id": "50fc8411",
   "metadata": {},
   "outputs": [],
   "source": [
    "data=np.array([1.13, 1.55, 1.43, 0.92, 1.25, 1.36, 1.32, 0.85, 1.07, 1.48, 1.20, 1.33, 1.18, 1.22, 1.29]) #given data\n",
    "sample_mean=np.mean(data)\n",
    "sample_std=np.std(data)\n",
    "sample_size=len(data)"
   ]
  },
  {
   "cell_type": "code",
   "execution_count": 94,
   "id": "662fc089",
   "metadata": {},
   "outputs": [
    {
     "name": "stdout",
     "output_type": "stream",
     "text": [
      "1.2386666666666666\n",
      "0.18661427836285438\n",
      "15\n"
     ]
    }
   ],
   "source": [
    "print(sample_mean)\n",
    "print(sample_std)\n",
    "print(sample_size)"
   ]
  },
  {
   "cell_type": "markdown",
   "id": "71699888",
   "metadata": {},
   "source": [
    "# a. Confidence interval using sample standard deviation."
   ]
  },
  {
   "cell_type": "markdown",
   "id": "25d37e1c",
   "metadata": {},
   "source": [
    "### METHOD1: Using direct syntax for knowing the confidence intervals.\n",
    "    syntax: stats.t.interval( confidence_level , Degree of freedom , sample_mean , s/ root of n)"
   ]
  },
  {
   "cell_type": "code",
   "execution_count": 95,
   "id": "b7d3a12a",
   "metadata": {},
   "outputs": [
    {
     "data": {
      "text/plain": [
       "(1.0952316686385626, 1.3821016646947706)"
      ]
     },
     "execution_count": 95,
     "metadata": {},
     "output_type": "execute_result"
    }
   ],
   "source": [
    "#using t-distribution\n",
    "confidence_level=0.99 #given confidence level is 99%\n",
    "dof=sample_size-1 #degrees of freedom \n",
    "ss=sample_std/np.sqrt(sample_size)\n",
    "stats.t.interval(confidence_level,dof,sample_mean,ss)"
   ]
  },
  {
   "cell_type": "markdown",
   "id": "e0fdbb86",
   "metadata": {},
   "source": [
    "### METHOD2: Using formulas for knowing the confidence intervals.\n",
    "    Formula: Confidence Interval[min,max]=(sample mean - margin error,sample mean + margin error)"
   ]
  },
  {
   "cell_type": "code",
   "execution_count": 96,
   "id": "9a8d988f",
   "metadata": {},
   "outputs": [],
   "source": [
    "confidence_level=0.99\n",
    "alpha=1-confidence_level\n",
    "t_value=stats.t.ppf(1 - alpha/2, df=sample_size - 1)\n",
    "margin_error=t_value*ss\n",
    "confidence_interval=(sample_mean-margin_error,sample_mean+margin_error)"
   ]
  },
  {
   "cell_type": "code",
   "execution_count": 97,
   "id": "e6ad6ca6",
   "metadata": {},
   "outputs": [
    {
     "name": "stdout",
     "output_type": "stream",
     "text": [
      "Confidence interval using sample standard deviation is: (1.0952316686385626, 1.3821016646947706)\n"
     ]
    }
   ],
   "source": [
    "print(\"Confidence interval using sample standard deviation is:\",confidence_interval)"
   ]
  },
  {
   "cell_type": "markdown",
   "id": "8da2260a",
   "metadata": {},
   "source": [
    "# b. Confidence interval using known population standard deviation"
   ]
  },
  {
   "cell_type": "markdown",
   "id": "34a92413",
   "metadata": {},
   "source": [
    "### METHOD1:"
   ]
  },
  {
   "cell_type": "code",
   "execution_count": 98,
   "id": "d23f91bf",
   "metadata": {},
   "outputs": [
    {
     "data": {
      "text/plain": [
       "(1.0849431688867082, 1.392390164446625)"
      ]
     },
     "execution_count": 98,
     "metadata": {},
     "output_type": "execute_result"
    }
   ],
   "source": [
    "#using t-distribution\n",
    "population_std = 0.2 #known population standard deviation\n",
    "ps=population_std/np.sqrt(sample_size)\n",
    "stats.t.interval(confidence_level,dof,sample_mean,ps)"
   ]
  },
  {
   "cell_type": "markdown",
   "id": "bfd80943",
   "metadata": {},
   "source": [
    "### METHOD2:"
   ]
  },
  {
   "cell_type": "code",
   "execution_count": 99,
   "id": "9229c16e",
   "metadata": {},
   "outputs": [],
   "source": [
    "population_std = 0.2\n",
    "ps=population_std/np.sqrt(sample_size)\n",
    "T_value=stats.t.ppf(1 - alpha/2, df=sample_size - 1)\n",
    "margin_error_b=T_value*ps\n",
    "confidence_interval_b=(sample_mean-margin_error_b,sample_mean+margin_error_b)"
   ]
  },
  {
   "cell_type": "code",
   "execution_count": 100,
   "id": "ab956e08",
   "metadata": {},
   "outputs": [
    {
     "name": "stdout",
     "output_type": "stream",
     "text": [
      "Confidence interval using known population standard deviation: (1.0849431688867082, 1.392390164446625)\n"
     ]
    }
   ],
   "source": [
    "print(\"Confidence interval using known population standard deviation:\",confidence_interval_b)"
   ]
  },
  {
   "cell_type": "code",
   "execution_count": null,
   "id": "a2bb36b5",
   "metadata": {},
   "outputs": [],
   "source": []
  }
 ],
 "metadata": {
  "kernelspec": {
   "display_name": "Python 3 (ipykernel)",
   "language": "python",
   "name": "python3"
  },
  "language_info": {
   "codemirror_mode": {
    "name": "ipython",
    "version": 3
   },
   "file_extension": ".py",
   "mimetype": "text/x-python",
   "name": "python",
   "nbconvert_exporter": "python",
   "pygments_lexer": "ipython3",
   "version": "3.10.9"
  }
 },
 "nbformat": 4,
 "nbformat_minor": 5
}
