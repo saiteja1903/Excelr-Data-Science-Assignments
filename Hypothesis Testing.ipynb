{
 "cells": [
  {
   "cell_type": "markdown",
   "id": "63ee26d1",
   "metadata": {},
   "source": [
    "# Hypothesis Testing"
   ]
  },
  {
   "cell_type": "code",
   "execution_count": 1,
   "id": "3f7275c1",
   "metadata": {},
   "outputs": [],
   "source": [
    "import numpy as np\n",
    "from scipy.stats import t"
   ]
  },
  {
   "cell_type": "code",
   "execution_count": 26,
   "id": "978fc7a2",
   "metadata": {},
   "outputs": [],
   "source": [
    "#given data\n",
    "sample_mean=3050\n",
    "theoritical_meean=1000+5*600\n",
    "standard_deviation=5*25\n",
    "sample_size=25\n",
    "alpha=0.05"
   ]
  },
  {
   "cell_type": "markdown",
   "id": "3bb892f7",
   "metadata": {},
   "source": [
    "### TASK-1 State the Hypotheses statement:"
   ]
  },
  {
   "cell_type": "markdown",
   "id": "cbc82189",
   "metadata": {},
   "source": [
    "Null Hypothesis (H₀): The weekly operating cost is consistent with the theoretical model (W = $1,000 + $5X).\n",
    "Alternative Hypothesis (H₁): The weekly operating cost is higher than the theoretical model."
   ]
  },
  {
   "cell_type": "markdown",
   "id": "95b98b3f",
   "metadata": {},
   "source": [
    "### TASK-2 Calculate the Test Statistic:"
   ]
  },
  {
   "cell_type": "code",
   "execution_count": 27,
   "id": "f2e29378",
   "metadata": {},
   "outputs": [],
   "source": [
    "#calculating t_statistics\n",
    "standard_error=standard_deviation/np.sqrt(sample_size)\n",
    "t_statistics=(sample_mean-theoritical_meean)/standard_error"
   ]
  },
  {
   "cell_type": "code",
   "execution_count": 28,
   "id": "62856e75",
   "metadata": {},
   "outputs": [
    {
     "name": "stdout",
     "output_type": "stream",
     "text": [
      "Standard Error 25.0\n",
      "T statistics -38.0\n"
     ]
    }
   ],
   "source": [
    "print(\"Standard Error\",standard_error)\n",
    "print(\"T statistics\",t_statistics)"
   ]
  },
  {
   "cell_type": "markdown",
   "id": "de0f96bf",
   "metadata": {},
   "source": [
    "### TASK-3 Determine the Critical Value"
   ]
  },
  {
   "cell_type": "code",
   "execution_count": 29,
   "id": "eaf58b2c",
   "metadata": {},
   "outputs": [],
   "source": [
    "dof=sample_size-1\n",
    "critical_value=t.ppf(1-alpha,dof)"
   ]
  },
  {
   "cell_type": "code",
   "execution_count": 30,
   "id": "6bb80c73",
   "metadata": {},
   "outputs": [
    {
     "data": {
      "text/plain": [
       "1.7108820799094275"
      ]
     },
     "execution_count": 30,
     "metadata": {},
     "output_type": "execute_result"
    }
   ],
   "source": [
    "critical_value\n"
   ]
  },
  {
   "cell_type": "markdown",
   "id": "a44c7c4a",
   "metadata": {},
   "source": [
    "### TASK-4 Make a Decision:"
   ]
  },
  {
   "cell_type": "code",
   "execution_count": 31,
   "id": "e88dae06",
   "metadata": {},
   "outputs": [
    {
     "name": "stdout",
     "output_type": "stream",
     "text": [
      "Accept H0:The operating cost for a franchise in a week is not changed and remained same as $1000+$5X for X=600\n"
     ]
    }
   ],
   "source": [
    "if t_statistics<critical_value:\n",
    "    print(\"Accept H0:The operating cost for a franchise in a week is not changed and remained same as $1000+$5X for X=600\")\n",
    "else:\n",
    "    Print(\"Reject H0:The operating cost for a franchise in a week is changed as greater than $1000+$5X for X=600\")"
   ]
  },
  {
   "cell_type": "markdown",
   "id": "266bc77b",
   "metadata": {},
   "source": [
    "### TASK-5 CONCLUSION"
   ]
  },
  {
   "cell_type": "markdown",
   "id": "a1faf32d",
   "metadata": {},
   "source": [
    "Based on the decision in step 4, conclude whether there is strong evidence to support the restaurant owners' claim that the weekly operating costs are higher than the model suggests."
   ]
  },
  {
   "cell_type": "markdown",
   "id": "9bab33dd",
   "metadata": {},
   "source": [
    "##### There is no strong evidence to support the restaurant owner"
   ]
  },
  {
   "cell_type": "code",
   "execution_count": null,
   "id": "e3241351",
   "metadata": {},
   "outputs": [],
   "source": []
  }
 ],
 "metadata": {
  "kernelspec": {
   "display_name": "Python 3 (ipykernel)",
   "language": "python",
   "name": "python3"
  },
  "language_info": {
   "codemirror_mode": {
    "name": "ipython",
    "version": 3
   },
   "file_extension": ".py",
   "mimetype": "text/x-python",
   "name": "python",
   "nbconvert_exporter": "python",
   "pygments_lexer": "ipython3",
   "version": "3.10.9"
  }
 },
 "nbformat": 4,
 "nbformat_minor": 5
}
